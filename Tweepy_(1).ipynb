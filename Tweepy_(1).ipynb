{
  "nbformat": 4,
  "nbformat_minor": 0,
  "metadata": {
    "kernelspec": {
      "display_name": "Python 3",
      "language": "python",
      "name": "python3"
    },
    "language_info": {
      "codemirror_mode": {
        "name": "ipython",
        "version": 3
      },
      "file_extension": ".py",
      "mimetype": "text/x-python",
      "name": "python",
      "nbconvert_exporter": "python",
      "pygments_lexer": "ipython3",
      "version": "3.6.8"
    },
    "colab": {
      "name": "Tweepy (1).ipynb",
      "provenance": []
    }
  },
  "cells": [
    {
      "cell_type": "code",
      "metadata": {
        "id": "3vszyN9XfN6d",
        "colab_type": "code",
        "outputId": "053c5b4d-a31f-43ca-d8e8-400cd1c09874",
        "colab": {
          "base_uri": "https://localhost:8080/",
          "height": 122
        }
      },
      "source": [
        "from google.colab import drive\n",
        "drive.mount('/content/drive')"
      ],
      "execution_count": 0,
      "outputs": [
        {
          "output_type": "stream",
          "text": [
            "Go to this URL in a browser: https://accounts.google.com/o/oauth2/auth?client_id=947318989803-6bn6qk8qdgf4n4g3pfee6491hc0brc4i.apps.googleusercontent.com&redirect_uri=urn%3Aietf%3Awg%3Aoauth%3A2.0%3Aoob&scope=email%20https%3A%2F%2Fwww.googleapis.com%2Fauth%2Fdocs.test%20https%3A%2F%2Fwww.googleapis.com%2Fauth%2Fdrive%20https%3A%2F%2Fwww.googleapis.com%2Fauth%2Fdrive.photos.readonly%20https%3A%2F%2Fwww.googleapis.com%2Fauth%2Fpeopleapi.readonly&response_type=code\n",
            "\n",
            "Enter your authorization code:\n",
            "··········\n",
            "Mounted at /content/drive\n"
          ],
          "name": "stdout"
        }
      ]
    },
    {
      "cell_type": "code",
      "metadata": {
        "id": "0aWllPb8e_Nm",
        "colab_type": "code",
        "colab": {}
      },
      "source": [
        ""
      ],
      "execution_count": 0,
      "outputs": []
    },
    {
      "cell_type": "code",
      "metadata": {
        "id": "9nvYaw_le9Ch",
        "colab_type": "code",
        "outputId": "4840f042-1f0d-4ad5-a572-97a6af7a9e2b",
        "colab": {
          "base_uri": "https://localhost:8080/",
          "height": 231
        }
      },
      "source": [
        "# General:\n",
        "import tweepy          # To consume Twitter's API\n",
        "import pandas as pd     # To handle data\n",
        "import numpy as np      # For numerical computation\n",
        "\n",
        "# For plotting and visualization:\n",
        "from IPython.display import display\n",
        "import matplotlib.pyplot as plt\n",
        "import seaborn as sns\n",
        "%matplotlib inline\n",
        "from tweepy import Stream\n",
        "from tweepy import OAuthHandler\n",
        "from tweepy.streaming import StreamListener\n",
        "import time\n",
        "import json\n",
        "\n",
        "# Consumer:\n",
        "consumer_key    = 'OzwePnUhRRN9wb9SiJNHsQcwk'\n",
        "consumer_secret = 'cB3pccPjbPGPj584nDO6fUF0kaNc1gTXZ2vOF4MdOhSqvwgYx6'\n",
        "\n",
        "# Access:\n",
        "access_key = '2324380248-bcbTFkO8EGhVdfsy8LlSrXAHL3fvqjVy4KGdewH'\n",
        "access_secret = 'k6z9CJnahhFLHryjR1FYavpRekBcDeCRf2CwKd3g7dFrq'\n",
        "\n",
        "auth = OAuthHandler(consumer_key, consumer_secret)\n",
        "auth.set_access_token(access_key, access_secret)\n",
        "api = tweepy.API(auth, wait_on_rate_limit=True)\n",
        "tweets = api.search(q=\"Telkom\",count=200, since=\"2019-01-01\")\n",
        "\n",
        "    \n",
        " \n",
        "message,favorite_count,retweet_count,created_at,user_name=[],[],[],[],[]\n",
        "for tweet in tweets:\n",
        "    message.append(tweet.text)\n",
        "    favorite_count.append(tweet.favorite_count)\n",
        "    retweet_count.append(tweet.retweet_count)\n",
        "    created_at.append(tweet.created_at)\n",
        "    user_name.append(user_objs.screen_name)\n",
        "\n",
        "    \n",
        "df=pd.DataFrame({'Message':message,\n",
        "                'Favourite Count':favorite_count,\n",
        "                'Retweet Count':retweet_count,\n",
        "                'Created At':created_at,\n",
        "                'user_name':user_name})\n",
        "df.to_csv(\"Search Tweets.csv\")"
      ],
      "execution_count": 0,
      "outputs": [
        {
          "output_type": "error",
          "ename": "NameError",
          "evalue": "ignored",
          "traceback": [
            "\u001b[0;31m---------------------------------------------------------------------------\u001b[0m",
            "\u001b[0;31mNameError\u001b[0m                                 Traceback (most recent call last)",
            "\u001b[0;32m<ipython-input-18-4d5113dafaab>\u001b[0m in \u001b[0;36m<module>\u001b[0;34m()\u001b[0m\n\u001b[1;32m     26\u001b[0m \u001b[0mapi\u001b[0m \u001b[0;34m=\u001b[0m \u001b[0mtweepy\u001b[0m\u001b[0;34m.\u001b[0m\u001b[0mAPI\u001b[0m\u001b[0;34m(\u001b[0m\u001b[0mauth\u001b[0m\u001b[0;34m,\u001b[0m \u001b[0mwait_on_rate_limit\u001b[0m\u001b[0;34m=\u001b[0m\u001b[0;32mTrue\u001b[0m\u001b[0;34m)\u001b[0m\u001b[0;34m\u001b[0m\u001b[0;34m\u001b[0m\u001b[0m\n\u001b[1;32m     27\u001b[0m \u001b[0mtweets\u001b[0m \u001b[0;34m=\u001b[0m \u001b[0mapi\u001b[0m\u001b[0;34m.\u001b[0m\u001b[0msearch\u001b[0m\u001b[0;34m(\u001b[0m\u001b[0mq\u001b[0m\u001b[0;34m=\u001b[0m\u001b[0;34m\"Telkom\"\u001b[0m\u001b[0;34m,\u001b[0m\u001b[0mcount\u001b[0m\u001b[0;34m=\u001b[0m\u001b[0;36m200\u001b[0m\u001b[0;34m,\u001b[0m \u001b[0msince\u001b[0m\u001b[0;34m=\u001b[0m\u001b[0;34m\"2019-01-01\"\u001b[0m\u001b[0;34m)\u001b[0m\u001b[0;34m\u001b[0m\u001b[0;34m\u001b[0m\u001b[0m\n\u001b[0;32m---> 28\u001b[0;31m \u001b[0muser_objs\u001b[0m \u001b[0;34m=\u001b[0m \u001b[0mapi\u001b[0m\u001b[0;34m.\u001b[0m\u001b[0mlookup_users\u001b[0m\u001b[0;34m(\u001b[0m\u001b[0muser_ids\u001b[0m\u001b[0;34m)\u001b[0m\u001b[0;34m\u001b[0m\u001b[0;34m\u001b[0m\u001b[0m\n\u001b[0m\u001b[1;32m     29\u001b[0m \u001b[0;34m\u001b[0m\u001b[0m\n\u001b[1;32m     30\u001b[0m \u001b[0;34m\u001b[0m\u001b[0m\n",
            "\u001b[0;31mNameError\u001b[0m: name 'user_ids' is not defined"
          ]
        }
      ]
    },
    {
      "cell_type": "code",
      "metadata": {
        "id": "CjQkfwP0e9Ck",
        "colab_type": "code",
        "outputId": "5c417518-4f04-4c42-ecf3-7af6604522e9",
        "colab": {
          "base_uri": "https://localhost:8080/",
          "height": 204
        }
      },
      "source": [
        "df.head()"
      ],
      "execution_count": 0,
      "outputs": [
        {
          "output_type": "execute_result",
          "data": {
            "text/html": [
              "<div>\n",
              "<style scoped>\n",
              "    .dataframe tbody tr th:only-of-type {\n",
              "        vertical-align: middle;\n",
              "    }\n",
              "\n",
              "    .dataframe tbody tr th {\n",
              "        vertical-align: top;\n",
              "    }\n",
              "\n",
              "    .dataframe thead th {\n",
              "        text-align: right;\n",
              "    }\n",
              "</style>\n",
              "<table border=\"1\" class=\"dataframe\">\n",
              "  <thead>\n",
              "    <tr style=\"text-align: right;\">\n",
              "      <th></th>\n",
              "      <th>Message</th>\n",
              "      <th>Favourite Count</th>\n",
              "      <th>Retweet Count</th>\n",
              "      <th>Created At</th>\n",
              "      <th>user_name</th>\n",
              "    </tr>\n",
              "  </thead>\n",
              "  <tbody>\n",
              "    <tr>\n",
              "      <th>0</th>\n",
              "      <td>RT @MapogoArthur: @marty_R200 @9xChamPFion @Bl...</td>\n",
              "      <td>0</td>\n",
              "      <td>2</td>\n",
              "      <td>2019-08-28 09:23:10</td>\n",
              "      <td>Double Treble ❤</td>\n",
              "    </tr>\n",
              "    <tr>\n",
              "      <th>1</th>\n",
              "      <td>@suprisehloni @YesWeCrann lol the league has i...</td>\n",
              "      <td>0</td>\n",
              "      <td>0</td>\n",
              "      <td>2019-08-28 09:22:47</td>\n",
              "      <td>Leeroy Bogolo Scott</td>\n",
              "    </tr>\n",
              "    <tr>\n",
              "      <th>2</th>\n",
              "      <td>@yeosinaa @Telkomsel Saya juga nih sudah pengg...</td>\n",
              "      <td>0</td>\n",
              "      <td>0</td>\n",
              "      <td>2019-08-28 09:22:44</td>\n",
              "      <td>Lia 🦊🐰</td>\n",
              "    </tr>\n",
              "    <tr>\n",
              "      <th>3</th>\n",
              "      <td>Event ini akan semakin menarik, karena berloka...</td>\n",
              "      <td>0</td>\n",
              "      <td>0</td>\n",
              "      <td>2019-08-28 09:22:31</td>\n",
              "      <td>#SemestaLampung</td>\n",
              "    </tr>\n",
              "    <tr>\n",
              "      <th>4</th>\n",
              "      <td>RT @ReniCyntia: Even ini akan semakin menarik,...</td>\n",
              "      <td>0</td>\n",
              "      <td>1</td>\n",
              "      <td>2019-08-28 09:22:07</td>\n",
              "      <td>Perempuan Unik</td>\n",
              "    </tr>\n",
              "  </tbody>\n",
              "</table>\n",
              "</div>"
            ],
            "text/plain": [
              "                                             Message  ...            user_name\n",
              "0  RT @MapogoArthur: @marty_R200 @9xChamPFion @Bl...  ...      Double Treble ❤\n",
              "1  @suprisehloni @YesWeCrann lol the league has i...  ...  Leeroy Bogolo Scott\n",
              "2  @yeosinaa @Telkomsel Saya juga nih sudah pengg...  ...               Lia 🦊🐰\n",
              "3  Event ini akan semakin menarik, karena berloka...  ...      #SemestaLampung\n",
              "4  RT @ReniCyntia: Even ini akan semakin menarik,...  ...       Perempuan Unik\n",
              "\n",
              "[5 rows x 5 columns]"
            ]
          },
          "metadata": {
            "tags": []
          },
          "execution_count": 14
        }
      ]
    },
    {
      "cell_type": "code",
      "metadata": {
        "id": "mLztfWBXe9Cm",
        "colab_type": "code",
        "colab": {}
      },
      "source": [
        "tweets = tw.Cursor(api.search,q=search_words,lang=\"en\",since=date_since)\n"
      ],
      "execution_count": 0,
      "outputs": []
    },
    {
      "cell_type": "code",
      "metadata": {
        "id": "g_RaOPwDe9Co",
        "colab_type": "code",
        "outputId": "ac06b2bc-371c-4328-faaa-5cc12ffc42f7",
        "colab": {}
      },
      "source": [
        "print(tweets)"
      ],
      "execution_count": 0,
      "outputs": [
        {
          "output_type": "stream",
          "text": [
            "<tweepy.cursor.Cursor object at 0x00000266E35277B8>\n"
          ],
          "name": "stdout"
        }
      ]
    },
    {
      "cell_type": "code",
      "metadata": {
        "id": "b4ZN7n9Ge9Cr",
        "colab_type": "code",
        "outputId": "5d539d5b-f68d-4605-9a32-7ee8bc4ae1e2",
        "colab": {
          "base_uri": "https://localhost:8080/",
          "height": 170
        }
      },
      "source": [
        "import sys\n",
        "import jsonpickle\n",
        "import os\n",
        "\n",
        "searchQuery = 'Telkomza'  # this is what we're searching for\n",
        "maxTweets = 700 # Some arbitrary large number\n",
        "tweetsPerQry = 100  # this is the max the API permits\n",
        "fName = 'tweets.txt' # We'll store the tweets in a text file.\n",
        "\n",
        "\n",
        "# If results from a specific ID onwards are reqd, set since_id to that ID.\n",
        "# else default to no lower limit, go as far back as API allows\n",
        "sinceId = \"2019-01-01\"\n",
        "\n",
        "# If results only below a specific ID are, set max_id to that ID.\n",
        "# else default to no upper limit, start from the most recent tweet matching the search query.\n",
        "max_id = -1\n",
        "\n",
        "tweetCount = 0\n",
        "print(\"Downloading max {0} tweets\".format(maxTweets))\n",
        "with open(fName, 'w') as f:\n",
        "    while tweetCount < maxTweets:\n",
        "        try:\n",
        "            if (max_id <= 0):\n",
        "                if (not sinceId):\n",
        "                    new_tweets = api.search(q=searchQuery, count=tweetsPerQry)\n",
        "                else:\n",
        "                    new_tweets = api.search(q=searchQuery, count=tweetsPerQry,\n",
        "                                            since_id=sinceId)\n",
        "            else:\n",
        "                if (not sinceId):\n",
        "                    new_tweets = api.search(q=searchQuery, count=tweetsPerQry,\n",
        "                                            max_id=str(max_id - 1))\n",
        "                else:\n",
        "                    new_tweets = api.search(q=searchQuery, count=tweetsPerQry,\n",
        "                                            max_id=str(max_id - 1),\n",
        "                                            since_id=sinceId)\n",
        "            if not new_tweets:\n",
        "                print(\"No more tweets found\")\n",
        "                break\n",
        "            for tweet in new_tweets:\n",
        "                f.write(jsonpickle.encode(tweet._json, unpicklable=False) +\n",
        "                        '\\n')\n",
        "            tweetCount += len(new_tweets)\n",
        "            print(\"Downloaded {0} tweets\".format(tweetCount))\n",
        "            max_id = new_tweets[-1].id\n",
        "        except tweepy.TweepError as e:\n",
        "            # Just exit if any error\n",
        "            print(\"some error : \" + str(e))\n",
        "            break\n",
        "\n",
        "print (\"Downloaded {0} tweets, Saved to {1}\".format(tweetCount, fName))"
      ],
      "execution_count": 0,
      "outputs": [
        {
          "output_type": "stream",
          "text": [
            "Downloading max 700 tweets\n",
            "Downloaded 100 tweets\n",
            "Downloaded 200 tweets\n",
            "Downloaded 300 tweets\n",
            "Downloaded 400 tweets\n",
            "Downloaded 500 tweets\n",
            "Downloaded 600 tweets\n",
            "Downloaded 700 tweets\n",
            "Downloaded 700 tweets, Saved to tweets.txt\n"
          ],
          "name": "stdout"
        }
      ]
    },
    {
      "cell_type": "code",
      "metadata": {
        "id": "Vooke8X3nGLm",
        "colab_type": "code",
        "outputId": "a30479b9-f6f2-402e-abae-9fe65f9280d0",
        "colab": {
          "base_uri": "https://localhost:8080/",
          "height": 34
        }
      },
      "source": [
        "fName"
      ],
      "execution_count": 0,
      "outputs": [
        {
          "output_type": "execute_result",
          "data": {
            "text/plain": [
              "'tweets.txt'"
            ]
          },
          "metadata": {
            "tags": []
          },
          "execution_count": 28
        }
      ]
    },
    {
      "cell_type": "code",
      "metadata": {
        "id": "bPUSX-bhnax9",
        "colab_type": "code",
        "colab": {}
      },
      "source": [
        ""
      ],
      "execution_count": 0,
      "outputs": []
    }
  ]
}